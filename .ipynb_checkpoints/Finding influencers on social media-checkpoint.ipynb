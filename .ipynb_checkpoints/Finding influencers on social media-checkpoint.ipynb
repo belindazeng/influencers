{
 "cells": [
  {
   "cell_type": "markdown",
   "metadata": {},
   "source": [
    "### Finding influencers on social media\n",
    "http://www.captaindatascience.com/top-fashion-influencers-instagram-twitter-an-algorithmic-approach-8\n",
    "\n",
    "#### Basic steps\n",
    "1. Finding top 10 influencers\n",
    "2. access Twitter API\n",
    "3. Find 20 most commonly followed by the top 10 influencers\n",
    "4. repeat step 3 on the new 30, etc.\n"
   ]
  },
  {
   "cell_type": "markdown",
   "metadata": {},
   "source": [
    "#### Initial setup"
   ]
  },
  {
   "cell_type": "code",
   "execution_count": 1,
   "metadata": {
    "collapsed": false
   },
   "outputs": [],
   "source": [
    "# Twitter API setup\n",
    "import tweepy\n",
    "import json\n",
    "import csv\n",
    "from tweepy import OAuthHandler\n",
    "\n",
    "consumer_key = \"HKdRO2RsrerfwnBCYUjcUorpb\"\n",
    "consumer_secret = \"h3Roqkslf2wn3D6e8xBUt4kh4PBYG1WoUK4RAPgWZTUh24Qn6F\"\n",
    "access_token = \"451540968-QbTf67xnuYjlYBkf2MsKuH6SUh2OdJrD1n7EX7Gn\"\n",
    "access_secret = \"fhpAikh6eoByPoravJpn7BFMN8VrAUg10j7CgyaKBZw1R\"\n",
    "\n",
    "auth = OAuthHandler(consumer_key, consumer_secret)\n",
    "auth.set_access_token(access_token, access_secret)\n",
    " \n",
    "api = tweepy.API(auth)"
   ]
  },
  {
   "cell_type": "code",
   "execution_count": 34,
   "metadata": {
    "collapsed": true
   },
   "outputs": [],
   "source": [
    "# pandas setup\n",
    "%matplotlib inline\n",
    "import numpy as np\n",
    "import scipy as sp\n",
    "import matplotlib as mpl\n",
    "import matplotlib.cm as cm\n",
    "import matplotlib.pyplot as plt\n",
    "import pandas as pd\n",
    "pd.set_option('display.width', 500)\n",
    "pd.set_option('display.max_columns', 100)\n",
    "pd.set_option('display.notebook_repr_html', True)\n",
    "import seaborn as sns\n",
    "sns.set_style(\"whitegrid\")\n",
    "sns.set_context(\"poster\")"
   ]
  },
  {
   "cell_type": "code",
   "execution_count": 31,
   "metadata": {
    "collapsed": true
   },
   "outputs": [],
   "source": [
    "# open csv file\n",
    "csvFile = open('initialtopinfluencers.csv', 'a')\n",
    "# create csv writer\n",
    "csvWriter = csv.writer(csvFile)\n"
   ]
  },
  {
   "cell_type": "markdown",
   "metadata": {},
   "source": [
    "#### Getting the info from top 10 influencers"
   ]
  },
  {
   "cell_type": "code",
   "execution_count": 19,
   "metadata": {
    "collapsed": true
   },
   "outputs": [],
   "source": [
    "top_ten_influencers = ['chiaraferragni','aimeesong', 'wendynguyen', 'Kayture', 'SincerelyJules', 'rumineely', \n",
    "                       'garypeppergirl', 'GalMeetsGlam', 'BlairEadieBEE', 'bettyautier']"
   ]
  },
  {
   "cell_type": "code",
   "execution_count": 32,
   "metadata": {
    "collapsed": true
   },
   "outputs": [],
   "source": [
    "# get relevant user info and save to csv\n",
    "def get_users_info(influencers):\n",
    "    users_summary = []\n",
    "    for influencer in influencers:\n",
    "        user = api.get_user(screen_name = influencer)\n",
    "        #save relevant info to csv\n",
    "        user_summary = [user.id, user.screen_name, user.followers_count, user.friends_count]\n",
    "        users_summary.append(user_summary)\n",
    "        csvWriter.writerow(user_summary)\n",
    "    return users_summary"
   ]
  },
  {
   "cell_type": "code",
   "execution_count": 30,
   "metadata": {
    "collapsed": false
   },
   "outputs": [
    {
     "data": {
      "text/plain": [
       "[[40090727, u'ChiaraFerragni', 273723, 153],\n",
       " [20298371, u'AIMEESONG', 62329, 359],\n",
       " [16252512, u'wendynguyen', 51012, 378],\n",
       " [157994424, u'Kayture', 36128, 493],\n",
       " [90963591, u'SincerelyJules', 56582, 436],\n",
       " [22830044, u'rumineely', 122310, 304],\n",
       " [112700733, u'garypeppergirl', 34180, 829],\n",
       " [282389552, u'GalMeetsGlam', 36106, 1142],\n",
       " [165572420, u'BlairEadieBEE', 52657, 313],\n",
       " [54859060, u'BettyAutier', 124774, 146]]"
      ]
     },
     "execution_count": 30,
     "metadata": {},
     "output_type": "execute_result"
    }
   ],
   "source": [
    "# gets the summary info for top ten influencers\n",
    "get_users_info(top_ten_influencers)"
   ]
  },
  {
   "cell_type": "code",
   "execution_count": 38,
   "metadata": {
    "collapsed": false
   },
   "outputs": [
    {
     "data": {
      "text/html": [
       "<div>\n",
       "<table border=\"1\" class=\"dataframe\">\n",
       "  <thead>\n",
       "    <tr style=\"text-align: right;\">\n",
       "      <th></th>\n",
       "      <th>id</th>\n",
       "      <th>screen_name</th>\n",
       "      <th>follower_count</th>\n",
       "      <th>friend_count</th>\n",
       "    </tr>\n",
       "  </thead>\n",
       "  <tbody>\n",
       "    <tr>\n",
       "      <th>0</th>\n",
       "      <td>40090727</td>\n",
       "      <td>ChiaraFerragni</td>\n",
       "      <td>273723</td>\n",
       "      <td>153</td>\n",
       "    </tr>\n",
       "    <tr>\n",
       "      <th>1</th>\n",
       "      <td>20298371</td>\n",
       "      <td>AIMEESONG</td>\n",
       "      <td>62329</td>\n",
       "      <td>359</td>\n",
       "    </tr>\n",
       "    <tr>\n",
       "      <th>2</th>\n",
       "      <td>16252512</td>\n",
       "      <td>wendynguyen</td>\n",
       "      <td>51012</td>\n",
       "      <td>378</td>\n",
       "    </tr>\n",
       "    <tr>\n",
       "      <th>3</th>\n",
       "      <td>157994424</td>\n",
       "      <td>Kayture</td>\n",
       "      <td>36128</td>\n",
       "      <td>493</td>\n",
       "    </tr>\n",
       "    <tr>\n",
       "      <th>4</th>\n",
       "      <td>90963591</td>\n",
       "      <td>SincerelyJules</td>\n",
       "      <td>56582</td>\n",
       "      <td>436</td>\n",
       "    </tr>\n",
       "    <tr>\n",
       "      <th>5</th>\n",
       "      <td>22830044</td>\n",
       "      <td>rumineely</td>\n",
       "      <td>122310</td>\n",
       "      <td>304</td>\n",
       "    </tr>\n",
       "    <tr>\n",
       "      <th>6</th>\n",
       "      <td>112700733</td>\n",
       "      <td>garypeppergirl</td>\n",
       "      <td>34180</td>\n",
       "      <td>829</td>\n",
       "    </tr>\n",
       "    <tr>\n",
       "      <th>7</th>\n",
       "      <td>282389552</td>\n",
       "      <td>GalMeetsGlam</td>\n",
       "      <td>36106</td>\n",
       "      <td>1142</td>\n",
       "    </tr>\n",
       "    <tr>\n",
       "      <th>8</th>\n",
       "      <td>165572420</td>\n",
       "      <td>BlairEadieBEE</td>\n",
       "      <td>52657</td>\n",
       "      <td>313</td>\n",
       "    </tr>\n",
       "    <tr>\n",
       "      <th>9</th>\n",
       "      <td>54859060</td>\n",
       "      <td>BettyAutier</td>\n",
       "      <td>124774</td>\n",
       "      <td>146</td>\n",
       "    </tr>\n",
       "  </tbody>\n",
       "</table>\n",
       "</div>"
      ],
      "text/plain": [
       "          id     screen_name  follower_count  friend_count\n",
       "0   40090727  ChiaraFerragni          273723           153\n",
       "1   20298371       AIMEESONG           62329           359\n",
       "2   16252512     wendynguyen           51012           378\n",
       "3  157994424         Kayture           36128           493\n",
       "4   90963591  SincerelyJules           56582           436\n",
       "5   22830044       rumineely          122310           304\n",
       "6  112700733  garypeppergirl           34180           829\n",
       "7  282389552    GalMeetsGlam           36106          1142\n",
       "8  165572420   BlairEadieBEE           52657           313\n",
       "9   54859060     BettyAutier          124774           146"
      ]
     },
     "execution_count": 38,
     "metadata": {},
     "output_type": "execute_result"
    }
   ],
   "source": [
    "initial_influencers_df=pd.read_csv(\"initialtopinfluencers.csv\", names=[\"id\", \"screen_name\", \n",
    "                                                                       \"follower_count\", \"friend_count\"])\n",
    "initial_influencers_df.head(10)"
   ]
  },
  {
   "cell_type": "markdown",
   "metadata": {},
   "source": []
  },
  {
   "cell_type": "code",
   "execution_count": 16,
   "metadata": {
    "collapsed": false
   },
   "outputs": [
    {
     "name": "stdout",
     "output_type": "stream",
     "text": [
      "1088398616 saimadhup Data Scientist,India Data Science Blogger 118 102\n"
     ]
    }
   ],
   "source": [
    "print user.id, user.screen_name, user.description, user.followers_count, user.friends_count\n"
   ]
  },
  {
   "cell_type": "code",
   "execution_count": 8,
   "metadata": {
    "collapsed": true
   },
   "outputs": [],
   "source": [
    "def get_friends_ids(user_id):\n",
    "    ids = []\n",
    "    page_count = 0\n",
    "    for page in tweepy.Cursor(api.friends_ids, id=user_id).pages():\n",
    "        page_count += 1\n",
    "        print 'Getting page {} for friends ids'.format(page_count)\n",
    "        ids.extend(page)\n",
    "    return ids"
   ]
  },
  {
   "cell_type": "code",
   "execution_count": 9,
   "metadata": {
    "collapsed": false
   },
   "outputs": [
    {
     "name": "stdout",
     "output_type": "stream",
     "text": [
      "Getting page 1 for friends ids\n"
     ]
    }
   ],
   "source": [
    "ids = get_friends_ids(user.id)"
   ]
  },
  {
   "cell_type": "code",
   "execution_count": 14,
   "metadata": {
    "collapsed": false
   },
   "outputs": [
    {
     "name": "stdout",
     "output_type": "stream",
     "text": [
      "102\n"
     ]
    }
   ],
   "source": [
    "print len(ids)"
   ]
  },
  {
   "cell_type": "code",
   "execution_count": null,
   "metadata": {
    "collapsed": true
   },
   "outputs": [],
   "source": []
  }
 ],
 "metadata": {
  "kernelspec": {
   "display_name": "Python 2",
   "language": "python",
   "name": "python2"
  },
  "language_info": {
   "codemirror_mode": {
    "name": "ipython",
    "version": 2
   },
   "file_extension": ".py",
   "mimetype": "text/x-python",
   "name": "python",
   "nbconvert_exporter": "python",
   "pygments_lexer": "ipython2",
   "version": "2.7.11"
  }
 },
 "nbformat": 4,
 "nbformat_minor": 0
}

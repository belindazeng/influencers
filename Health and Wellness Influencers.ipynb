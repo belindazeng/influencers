{
 "cells": [
  {
   "cell_type": "markdown",
   "metadata": {},
   "source": [
    "## Health and Wellness Influencers on Twitter\n",
    "\n",
    "### Overview and Feature Justification\n",
    "\n",
    "This project is geared towards finding influencers in the health and wellness space. As we move forward with Metro Group, we will have to find influencers in this space regardless, so hopefully this will make the process easy. \n",
    "\n",
    "### Process\n",
    "\n",
    "The flow is as follows:\n",
    "\n",
    "1. Personally curate 10 influencers in the health and wellness space (and run this by Steph and Tas)\n",
    "2. Get the friends of the influencers on our list.\n",
    "3. Take the top 20 people who have the most friends amongst our influencers list.\n",
    "4. Now we have a list of 30 influencers to repeat steps 2 and 3 on. Keep doing this until we have 90 influencers.\n",
    "\n",
    "What's nice about this is that depending on how we do it, it can be *self-correcting*. Even the ones we initially find as influencers might get cycled out if they're not in the inner friend circle :)\n",
    "\n",
    "Moreover, we can combine this with hashtag analysis to further classify our influencers (beyond simply being in the health and wellness space)."
   ]
  },
  {
   "cell_type": "markdown",
   "metadata": {},
   "source": [
    "### Initial Setup \n",
    "\n",
    "We start by setting up Twitter authentication and importing necessary libraries."
   ]
  },
  {
   "cell_type": "code",
   "execution_count": 4,
   "metadata": {
    "collapsed": true
   },
   "outputs": [],
   "source": [
    "# Twitter API setup\n",
    "import tweepy\n",
    "import json\n",
    "import csv\n",
    "from tweepy import OAuthHandler\n",
    "\n",
    "# setup authentication for Twitter\n",
    "consumer_key = 'lun6TR6KpaISisFdGnQ5Eo8v5'\n",
    "consumer_secret = 'hmwEtnfvTfI6CljEKKtIGjahG4NcFQvLBXhOnPyFHmAqNZ9fVV'\n",
    "access_token = '3004335028-UKSgKFDbaBLNWTzXQFrBRDwVOKo0JR475KYY3LW'\n",
    "access_secret = 'pA6MeW4NYsv3tL0MRvjI1oBqdUZc0os11gesdNVkeLpX2'\n",
    "# consumer_key = \"HKdRO2RsrerfwnBCYUjcUorpb\"\n",
    "# consumer_secret = \"h3Roqkslf2wn3D6e8xBUt4kh4PBYG1WoUK4RAPgWZTUh24Qn6F\"\n",
    "# access_token = \"451540968-QbTf67xnuYjlYBkf2MsKuH6SUh2OdJrD1n7EX7Gn\"\n",
    "# access_secret = \"fhpAikh6eoByPoravJpn7BFMN8VrAUg10j7CgyaKBZw1R\"\n",
    "\n",
    "auth = OAuthHandler(consumer_key, consumer_secret)\n",
    "auth.set_access_token(access_token, access_secret)\n",
    " \n",
    "api = tweepy.API(auth)\n",
    "\n",
    "# pandas setup\n",
    "%matplotlib inline\n",
    "import numpy as np\n",
    "import scipy as sp\n",
    "import matplotlib as mpl\n",
    "import matplotlib.cm as cm\n",
    "import matplotlib.pyplot as plt\n",
    "import pandas as pd\n",
    "pd.set_option('display.width', 500)\n",
    "pd.set_option('display.max_columns', 100)\n",
    "pd.set_option('display.notebook_repr_html', True)\n",
    "import seaborn as sns\n",
    "sns.set_style(\"whitegrid\")\n",
    "sns.set_context(\"poster\")\n",
    "import time"
   ]
  },
  {
   "cell_type": "markdown",
   "metadata": {},
   "source": [
    "### General Helper Functions"
   ]
  },
  {
   "cell_type": "code",
   "execution_count": 15,
   "metadata": {
    "collapsed": true
   },
   "outputs": [],
   "source": [
    "\"\"\"\n",
    "function get_users_info_from_screen_name\n",
    "inputs: \n",
    "- screen_names: list of screen names I want to get more info about\n",
    "returns: user_summary as a dataframe (with the Twitter id, screen name, follower and friend count)\n",
    "\"\"\"\n",
    "def get_users_info_from_screen_name(screen_names):\n",
    "    # get users summary\n",
    "    users_summary = []\n",
    "    for influencer in screen_names:\n",
    "        user = api.get_user(screen_name = influencer)\n",
    "        #save relevant info to csv\n",
    "        user_summary = [user.id, user.screen_name, user.followers_count, user.friends_count]\n",
    "        users_summary.append(user_summary)\n",
    " \n",
    "    # create df\n",
    "    headers = ['user_id', 'screen_name', 'followers_count', 'friends_count']\n",
    "    df = pd.DataFrame(users_summary, columns=headers) \n",
    "    \n",
    "    return df"
   ]
  },
  {
   "cell_type": "code",
   "execution_count": 21,
   "metadata": {
    "collapsed": true
   },
   "outputs": [],
   "source": [
    "\"\"\"\n",
    "function get_users_info_from_id\n",
    "inputs: \n",
    "- screen_names: list of ids I want to get more info about\n",
    "returns: user_summary as a dataframe (with the Twitter id, screen name, follower and friend count)\n",
    "\"\"\"\n",
    "def get_users_info_from_screen_name(ids):\n",
    "    # get users summary\n",
    "    users_summary = []\n",
    "    for influencer in ids:\n",
    "        user = api.get_user(id = influencer)\n",
    "        #save relevant info to csv\n",
    "        user_summary = [user.id, user.screen_name, user.followers_count, user.friends_count]\n",
    "        users_summary.append(user_summary)\n",
    " \n",
    "    # create df\n",
    "    headers = ['user_id', 'screen_name', 'followers_count', 'friends_count']\n",
    "    df = pd.DataFrame(users_summary, columns=headers) \n",
    "    \n",
    "    return df"
   ]
  },
  {
   "cell_type": "code",
   "execution_count": 19,
   "metadata": {
    "collapsed": true
   },
   "outputs": [],
   "source": [
    "\"\"\"\n",
    "function get_friends_ids\n",
    "inputs: \n",
    "- user_id: a user id\n",
    "returns: ids an array of friend ids\n",
    "\"\"\"\n",
    "def get_friends_ids(user_id):\n",
    "    ids = []\n",
    "    page_count = 0\n",
    "    for page in tweepy.Cursor(api.friends_ids, id=user_id).pages():\n",
    "        page_count += 1\n",
    "        ids.extend(page)\n",
    "        time.sleep(60)\n",
    "    return ids"
   ]
  },
  {
   "cell_type": "code",
   "execution_count": 20,
   "metadata": {
    "collapsed": true
   },
   "outputs": [],
   "source": [
    "\"\"\"\n",
    "function get_influencers_friends\n",
    "inputs: \n",
    "- influencers_ids: list of influencer ids\n",
    "returns: returns all the friends of those influencers (with duplicates)\n",
    "\"\"\"\n",
    "# get all the friend's ids in one big giant list\n",
    "def get_influencers_friends(influencers_ids):\n",
    "    all_friend_ids = []\n",
    "    for influencer_id in influencers_ids:\n",
    "        # get all friends of the influencer\n",
    "        ids = get_friends_ids(influencer_id)\n",
    "        # add to our comprehensive list\n",
    "        all_friend_ids = all_friend_ids + ids\n",
    "    return all_friend_ids"
   ]
  },
  {
   "cell_type": "code",
   "execution_count": null,
   "metadata": {
    "collapsed": true
   },
   "outputs": [],
   "source": [
    "\"\"\"\n",
    "function get_most_popular_friends_no_duplicates\n",
    "inputs: \n",
    "- all_friends_ids: takes a list of all the friends' ids\n",
    "returns: returns all the friends of those influencers (with duplicates)\n",
    "\"\"\"\n",
    "def get_most_popular_friends_no_duplicates(all_friend_ids, original_ids):\n",
    "    # sort items given list test\n",
    "    sorted_list = [item for items, c in Counter(all_friend_ids).most_common() for item in [items] * c]\n",
    "    # top users\n",
    "    top_ids= [key for key, group in groupby(sorted_list)]\n",
    "    top_ids_no_duplicates = []\n",
    "    # remove duplicates\n",
    "    counter = 0\n",
    "    for top_id in top_ids:\n",
    "        if counter < 20:\n",
    "            if top_id in list(original_ids):\n",
    "                continue\n",
    "            else:\n",
    "                top_ids_no_duplicates.append(top_id) \n",
    "                counter = counter + 1\n",
    "            \n",
    "    return top_ids_no_duplicates"
   ]
  },
  {
   "cell_type": "markdown",
   "metadata": {},
   "source": [
    "### Curating the initial top 10\n",
    "We will need a curated list of influencers in the health and wellness space to start out with. These initial 10 are probably important, so I've gone through 2 articles and found the twitter handles of the people mentioned. I'll then take the influencers with the most followers"
   ]
  },
  {
   "cell_type": "code",
   "execution_count": 16,
   "metadata": {
    "collapsed": false,
    "scrolled": true
   },
   "outputs": [
    {
     "data": {
      "text/html": [
       "<div>\n",
       "<table border=\"1\" class=\"dataframe\">\n",
       "  <thead>\n",
       "    <tr style=\"text-align: right;\">\n",
       "      <th></th>\n",
       "      <th>user_id</th>\n",
       "      <th>screen_name</th>\n",
       "      <th>followers_count</th>\n",
       "      <th>friends_count</th>\n",
       "    </tr>\n",
       "  </thead>\n",
       "  <tbody>\n",
       "    <tr>\n",
       "      <th>0</th>\n",
       "      <td>323872736</td>\n",
       "      <td>minimalistbaker</td>\n",
       "      <td>13347</td>\n",
       "      <td>69</td>\n",
       "    </tr>\n",
       "    <tr>\n",
       "      <th>1</th>\n",
       "      <td>21952537</td>\n",
       "      <td>sproutedkitchen</td>\n",
       "      <td>16369</td>\n",
       "      <td>83</td>\n",
       "    </tr>\n",
       "    <tr>\n",
       "      <th>2</th>\n",
       "      <td>18676526</td>\n",
       "      <td>ohsheglows</td>\n",
       "      <td>71802</td>\n",
       "      <td>3676</td>\n",
       "    </tr>\n",
       "    <tr>\n",
       "      <th>3</th>\n",
       "      <td>89796982</td>\n",
       "      <td>MikeTriathlon</td>\n",
       "      <td>1744</td>\n",
       "      <td>125</td>\n",
       "    </tr>\n",
       "    <tr>\n",
       "      <th>4</th>\n",
       "      <td>148521467</td>\n",
       "      <td>ChocCoveredKt</td>\n",
       "      <td>17817</td>\n",
       "      <td>30</td>\n",
       "    </tr>\n",
       "  </tbody>\n",
       "</table>\n",
       "</div>"
      ],
      "text/plain": [
       "     user_id      screen_name  followers_count  friends_count\n",
       "0  323872736  minimalistbaker            13347             69\n",
       "1   21952537  sproutedkitchen            16369             83\n",
       "2   18676526       ohsheglows            71802           3676\n",
       "3   89796982    MikeTriathlon             1744            125\n",
       "4  148521467    ChocCoveredKt            17817             30"
      ]
     },
     "execution_count": 16,
     "metadata": {},
     "output_type": "execute_result"
    }
   ],
   "source": [
    "web_influencers_list = ['minimalistbaker', 'sproutedkitchen', 'ohsheglows', 'MikeTriathlon', 'ChocCoveredKt',\n",
    "                        'CleanEatingGodd', 'acouplecooks', 'thehealthymaven', 'kaleandcaramel', 'marionnestle', \n",
    "                        'michaelpollan', 'bittman', 'ChefAnnFnd', 'JoelSalatin', 'jamieoliver', 'bryantterry',\n",
    "                        'johnlapuma', 'robbwolf', 'ugwellness', '100daysrealfood']\n",
    "web_influencer_info_df = get_users_info_from_screen_name(web_influencers_list)\n",
    "web_influencer_info_df.head(5)"
   ]
  },
  {
   "cell_type": "markdown",
   "metadata": {},
   "source": [
    "Next we sort these by their followers_count and take the top 10 of these as our inital ten most influential people. We write these initial 10 to a csv. "
   ]
  },
  {
   "cell_type": "code",
   "execution_count": 17,
   "metadata": {
    "collapsed": true
   },
   "outputs": [],
   "source": [
    "sorted_web_influencer_info_df = web_influencer_info_df.sort(['followers_count'], ascending=False)\n",
    "ten_influencers_df = sorted_web_influencer_info_df[0:10]\n",
    "ten_influencers_df.to_csv('wellness/teninfluencers.csv')"
   ]
  },
  {
   "cell_type": "markdown",
   "metadata": {},
   "source": [
    "### Cycle 1: Curating the next 20"
   ]
  },
  {
   "cell_type": "code",
   "execution_count": null,
   "metadata": {
    "collapsed": true
   },
   "outputs": [],
   "source": []
  },
  {
   "cell_type": "code",
   "execution_count": 6,
   "metadata": {
    "collapsed": false
   },
   "outputs": [
    {
     "data": {
      "text/html": [
       "<div>\n",
       "<table border=\"1\" class=\"dataframe\">\n",
       "  <thead>\n",
       "    <tr style=\"text-align: right;\">\n",
       "      <th></th>\n",
       "      <th>id</th>\n",
       "      <th>screen_name</th>\n",
       "      <th>follower_count</th>\n",
       "      <th>friend_count</th>\n",
       "    </tr>\n",
       "  </thead>\n",
       "  <tbody>\n",
       "    <tr>\n",
       "      <th>0</th>\n",
       "      <td>19212009</td>\n",
       "      <td>WhoWhatWear</td>\n",
       "      <td>2101444</td>\n",
       "      <td>1594</td>\n",
       "    </tr>\n",
       "    <tr>\n",
       "      <th>1</th>\n",
       "      <td>228379737</td>\n",
       "      <td>thecoveteur</td>\n",
       "      <td>155119</td>\n",
       "      <td>2766</td>\n",
       "    </tr>\n",
       "    <tr>\n",
       "      <th>2</th>\n",
       "      <td>64822927</td>\n",
       "      <td>sea_of_shoes</td>\n",
       "      <td>101586</td>\n",
       "      <td>570</td>\n",
       "    </tr>\n",
       "    <tr>\n",
       "      <th>3</th>\n",
       "      <td>17475920</td>\n",
       "      <td>BagSnob</td>\n",
       "      <td>165187</td>\n",
       "      <td>888</td>\n",
       "    </tr>\n",
       "    <tr>\n",
       "      <th>4</th>\n",
       "      <td>21190774</td>\n",
       "      <td>tuulavintage</td>\n",
       "      <td>38864</td>\n",
       "      <td>415</td>\n",
       "    </tr>\n",
       "    <tr>\n",
       "      <th>5</th>\n",
       "      <td>17809182</td>\n",
       "      <td>MattiasSwenson</td>\n",
       "      <td>8124</td>\n",
       "      <td>119</td>\n",
       "    </tr>\n",
       "    <tr>\n",
       "      <th>6</th>\n",
       "      <td>90963591</td>\n",
       "      <td>SincerelyJules</td>\n",
       "      <td>56593</td>\n",
       "      <td>436</td>\n",
       "    </tr>\n",
       "    <tr>\n",
       "      <th>7</th>\n",
       "      <td>24190981</td>\n",
       "      <td>TeenVogue</td>\n",
       "      <td>2588637</td>\n",
       "      <td>2819</td>\n",
       "    </tr>\n",
       "    <tr>\n",
       "      <th>8</th>\n",
       "      <td>73359920</td>\n",
       "      <td>MaisonValentino</td>\n",
       "      <td>1656069</td>\n",
       "      <td>975</td>\n",
       "    </tr>\n",
       "    <tr>\n",
       "      <th>9</th>\n",
       "      <td>15090453</td>\n",
       "      <td>gerihirsch</td>\n",
       "      <td>16550</td>\n",
       "      <td>384</td>\n",
       "    </tr>\n",
       "    <tr>\n",
       "      <th>10</th>\n",
       "      <td>16271952</td>\n",
       "      <td>RebeccaMinkoff</td>\n",
       "      <td>764630</td>\n",
       "      <td>2667</td>\n",
       "    </tr>\n",
       "    <tr>\n",
       "      <th>11</th>\n",
       "      <td>437086963</td>\n",
       "      <td>31philliplim</td>\n",
       "      <td>64710</td>\n",
       "      <td>373</td>\n",
       "    </tr>\n",
       "    <tr>\n",
       "      <th>12</th>\n",
       "      <td>109702885</td>\n",
       "      <td>marcjacobs</td>\n",
       "      <td>5985153</td>\n",
       "      <td>1529</td>\n",
       "    </tr>\n",
       "    <tr>\n",
       "      <th>13</th>\n",
       "      <td>16945578</td>\n",
       "      <td>garancedore</td>\n",
       "      <td>498177</td>\n",
       "      <td>161</td>\n",
       "    </tr>\n",
       "    <tr>\n",
       "      <th>14</th>\n",
       "      <td>35443315</td>\n",
       "      <td>stylescrapbook</td>\n",
       "      <td>70149</td>\n",
       "      <td>545</td>\n",
       "    </tr>\n",
       "    <tr>\n",
       "      <th>15</th>\n",
       "      <td>20779908</td>\n",
       "      <td>carolinaengman</td>\n",
       "      <td>42171</td>\n",
       "      <td>107</td>\n",
       "    </tr>\n",
       "    <tr>\n",
       "      <th>16</th>\n",
       "      <td>22582248</td>\n",
       "      <td>parkncube</td>\n",
       "      <td>14841</td>\n",
       "      <td>1643</td>\n",
       "    </tr>\n",
       "    <tr>\n",
       "      <th>17</th>\n",
       "      <td>136361303</td>\n",
       "      <td>voguemagazine</td>\n",
       "      <td>10926070</td>\n",
       "      <td>534</td>\n",
       "    </tr>\n",
       "    <tr>\n",
       "      <th>18</th>\n",
       "      <td>18307364</td>\n",
       "      <td>shopbop</td>\n",
       "      <td>213849</td>\n",
       "      <td>903</td>\n",
       "    </tr>\n",
       "    <tr>\n",
       "      <th>19</th>\n",
       "      <td>20298371</td>\n",
       "      <td>AIMEESONG</td>\n",
       "      <td>62365</td>\n",
       "      <td>359</td>\n",
       "    </tr>\n",
       "  </tbody>\n",
       "</table>\n",
       "</div>"
      ],
      "text/plain": [
       "           id      screen_name  follower_count  friend_count\n",
       "0    19212009      WhoWhatWear         2101444          1594\n",
       "1   228379737      thecoveteur          155119          2766\n",
       "2    64822927     sea_of_shoes          101586           570\n",
       "3    17475920          BagSnob          165187           888\n",
       "4    21190774     tuulavintage           38864           415\n",
       "5    17809182   MattiasSwenson            8124           119\n",
       "6    90963591   SincerelyJules           56593           436\n",
       "7    24190981        TeenVogue         2588637          2819\n",
       "8    73359920  MaisonValentino         1656069           975\n",
       "9    15090453       gerihirsch           16550           384\n",
       "10   16271952   RebeccaMinkoff          764630          2667\n",
       "11  437086963     31philliplim           64710           373\n",
       "12  109702885       marcjacobs         5985153          1529\n",
       "13   16945578      garancedore          498177           161\n",
       "14   35443315   stylescrapbook           70149           545\n",
       "15   20779908   carolinaengman           42171           107\n",
       "16   22582248        parkncube           14841          1643\n",
       "17  136361303    voguemagazine        10926070           534\n",
       "18   18307364          shopbop          213849           903\n",
       "19   20298371        AIMEESONG           62365           359"
      ]
     },
     "execution_count": 6,
     "metadata": {},
     "output_type": "execute_result"
    }
   ],
   "source": [
    "next_influencers_df=pd.read_csv(\"moretopinfluencers.csv\", names=[\"id\", \"screen_name\", \n",
    "                                                                       \"follower_count\", \"friend_count\"])\n",
    "next_influencers_df"
   ]
  },
  {
   "cell_type": "markdown",
   "metadata": {},
   "source": [
    "#### Merge dfs"
   ]
  },
  {
   "cell_type": "code",
   "execution_count": 10,
   "metadata": {
    "collapsed": false
   },
   "outputs": [
    {
     "data": {
      "text/html": [
       "<div>\n",
       "<table border=\"1\" class=\"dataframe\">\n",
       "  <thead>\n",
       "    <tr style=\"text-align: right;\">\n",
       "      <th></th>\n",
       "      <th>id</th>\n",
       "      <th>screen_name</th>\n",
       "      <th>follower_count</th>\n",
       "      <th>friend_count</th>\n",
       "    </tr>\n",
       "  </thead>\n",
       "  <tbody>\n",
       "    <tr>\n",
       "      <th>0</th>\n",
       "      <td>40090727</td>\n",
       "      <td>ChiaraFerragni</td>\n",
       "      <td>273723</td>\n",
       "      <td>153</td>\n",
       "    </tr>\n",
       "    <tr>\n",
       "      <th>1</th>\n",
       "      <td>20298371</td>\n",
       "      <td>AIMEESONG</td>\n",
       "      <td>62329</td>\n",
       "      <td>359</td>\n",
       "    </tr>\n",
       "    <tr>\n",
       "      <th>2</th>\n",
       "      <td>16252512</td>\n",
       "      <td>wendynguyen</td>\n",
       "      <td>51012</td>\n",
       "      <td>378</td>\n",
       "    </tr>\n",
       "    <tr>\n",
       "      <th>3</th>\n",
       "      <td>157994424</td>\n",
       "      <td>Kayture</td>\n",
       "      <td>36128</td>\n",
       "      <td>493</td>\n",
       "    </tr>\n",
       "    <tr>\n",
       "      <th>4</th>\n",
       "      <td>90963591</td>\n",
       "      <td>SincerelyJules</td>\n",
       "      <td>56582</td>\n",
       "      <td>436</td>\n",
       "    </tr>\n",
       "  </tbody>\n",
       "</table>\n",
       "</div>"
      ],
      "text/plain": [
       "          id     screen_name  follower_count  friend_count\n",
       "0   40090727  ChiaraFerragni          273723           153\n",
       "1   20298371       AIMEESONG           62329           359\n",
       "2   16252512     wendynguyen           51012           378\n",
       "3  157994424         Kayture           36128           493\n",
       "4   90963591  SincerelyJules           56582           436"
      ]
     },
     "execution_count": 10,
     "metadata": {},
     "output_type": "execute_result"
    }
   ],
   "source": [
    "frames = [initial_influencers_df, next_influencers_df]\n",
    "new_df = pd.concat(frames)\n",
    "new_df.head(5)"
   ]
  },
  {
   "cell_type": "code",
   "execution_count": 15,
   "metadata": {
    "collapsed": false
   },
   "outputs": [],
   "source": [
    "# save work by writing to a csv file\n",
    "new_df.to_csv('top30influencers.csv')"
   ]
  },
  {
   "cell_type": "markdown",
   "metadata": {},
   "source": [
    "#### Cycle 2\n",
    "Start getting friends again"
   ]
  },
  {
   "cell_type": "code",
   "execution_count": 68,
   "metadata": {
    "collapsed": false
   },
   "outputs": [
    {
     "data": {
      "text/html": [
       "<div>\n",
       "<table border=\"1\" class=\"dataframe\">\n",
       "  <thead>\n",
       "    <tr style=\"text-align: right;\">\n",
       "      <th></th>\n",
       "      <th>Unnamed: 0</th>\n",
       "      <th>id</th>\n",
       "      <th>screen_name</th>\n",
       "      <th>follower_count</th>\n",
       "      <th>friend_count</th>\n",
       "    </tr>\n",
       "  </thead>\n",
       "  <tbody>\n",
       "    <tr>\n",
       "      <th>0</th>\n",
       "      <td>0</td>\n",
       "      <td>40090727</td>\n",
       "      <td>ChiaraFerragni</td>\n",
       "      <td>273723</td>\n",
       "      <td>153</td>\n",
       "    </tr>\n",
       "    <tr>\n",
       "      <th>1</th>\n",
       "      <td>1</td>\n",
       "      <td>20298371</td>\n",
       "      <td>AIMEESONG</td>\n",
       "      <td>62329</td>\n",
       "      <td>359</td>\n",
       "    </tr>\n",
       "    <tr>\n",
       "      <th>2</th>\n",
       "      <td>2</td>\n",
       "      <td>16252512</td>\n",
       "      <td>wendynguyen</td>\n",
       "      <td>51012</td>\n",
       "      <td>378</td>\n",
       "    </tr>\n",
       "    <tr>\n",
       "      <th>3</th>\n",
       "      <td>3</td>\n",
       "      <td>157994424</td>\n",
       "      <td>Kayture</td>\n",
       "      <td>36128</td>\n",
       "      <td>493</td>\n",
       "    </tr>\n",
       "    <tr>\n",
       "      <th>4</th>\n",
       "      <td>4</td>\n",
       "      <td>90963591</td>\n",
       "      <td>SincerelyJules</td>\n",
       "      <td>56582</td>\n",
       "      <td>436</td>\n",
       "    </tr>\n",
       "    <tr>\n",
       "      <th>5</th>\n",
       "      <td>5</td>\n",
       "      <td>22830044</td>\n",
       "      <td>rumineely</td>\n",
       "      <td>122310</td>\n",
       "      <td>304</td>\n",
       "    </tr>\n",
       "    <tr>\n",
       "      <th>6</th>\n",
       "      <td>6</td>\n",
       "      <td>112700733</td>\n",
       "      <td>garypeppergirl</td>\n",
       "      <td>34180</td>\n",
       "      <td>829</td>\n",
       "    </tr>\n",
       "    <tr>\n",
       "      <th>7</th>\n",
       "      <td>7</td>\n",
       "      <td>282389552</td>\n",
       "      <td>GalMeetsGlam</td>\n",
       "      <td>36106</td>\n",
       "      <td>1142</td>\n",
       "    </tr>\n",
       "    <tr>\n",
       "      <th>8</th>\n",
       "      <td>8</td>\n",
       "      <td>165572420</td>\n",
       "      <td>BlairEadieBEE</td>\n",
       "      <td>52657</td>\n",
       "      <td>313</td>\n",
       "    </tr>\n",
       "    <tr>\n",
       "      <th>9</th>\n",
       "      <td>9</td>\n",
       "      <td>54859060</td>\n",
       "      <td>BettyAutier</td>\n",
       "      <td>124774</td>\n",
       "      <td>146</td>\n",
       "    </tr>\n",
       "    <tr>\n",
       "      <th>10</th>\n",
       "      <td>0</td>\n",
       "      <td>19212009</td>\n",
       "      <td>WhoWhatWear</td>\n",
       "      <td>2101444</td>\n",
       "      <td>1594</td>\n",
       "    </tr>\n",
       "    <tr>\n",
       "      <th>11</th>\n",
       "      <td>1</td>\n",
       "      <td>228379737</td>\n",
       "      <td>thecoveteur</td>\n",
       "      <td>155119</td>\n",
       "      <td>2766</td>\n",
       "    </tr>\n",
       "    <tr>\n",
       "      <th>12</th>\n",
       "      <td>2</td>\n",
       "      <td>64822927</td>\n",
       "      <td>sea_of_shoes</td>\n",
       "      <td>101586</td>\n",
       "      <td>570</td>\n",
       "    </tr>\n",
       "    <tr>\n",
       "      <th>13</th>\n",
       "      <td>3</td>\n",
       "      <td>17475920</td>\n",
       "      <td>BagSnob</td>\n",
       "      <td>165187</td>\n",
       "      <td>888</td>\n",
       "    </tr>\n",
       "    <tr>\n",
       "      <th>14</th>\n",
       "      <td>4</td>\n",
       "      <td>21190774</td>\n",
       "      <td>tuulavintage</td>\n",
       "      <td>38864</td>\n",
       "      <td>415</td>\n",
       "    </tr>\n",
       "    <tr>\n",
       "      <th>15</th>\n",
       "      <td>5</td>\n",
       "      <td>17809182</td>\n",
       "      <td>MattiasSwenson</td>\n",
       "      <td>8124</td>\n",
       "      <td>119</td>\n",
       "    </tr>\n",
       "    <tr>\n",
       "      <th>16</th>\n",
       "      <td>6</td>\n",
       "      <td>90963591</td>\n",
       "      <td>SincerelyJules</td>\n",
       "      <td>56593</td>\n",
       "      <td>436</td>\n",
       "    </tr>\n",
       "    <tr>\n",
       "      <th>17</th>\n",
       "      <td>7</td>\n",
       "      <td>24190981</td>\n",
       "      <td>TeenVogue</td>\n",
       "      <td>2588637</td>\n",
       "      <td>2819</td>\n",
       "    </tr>\n",
       "    <tr>\n",
       "      <th>18</th>\n",
       "      <td>8</td>\n",
       "      <td>73359920</td>\n",
       "      <td>MaisonValentino</td>\n",
       "      <td>1656069</td>\n",
       "      <td>975</td>\n",
       "    </tr>\n",
       "    <tr>\n",
       "      <th>19</th>\n",
       "      <td>9</td>\n",
       "      <td>15090453</td>\n",
       "      <td>gerihirsch</td>\n",
       "      <td>16550</td>\n",
       "      <td>384</td>\n",
       "    </tr>\n",
       "    <tr>\n",
       "      <th>20</th>\n",
       "      <td>10</td>\n",
       "      <td>16271952</td>\n",
       "      <td>RebeccaMinkoff</td>\n",
       "      <td>764630</td>\n",
       "      <td>2667</td>\n",
       "    </tr>\n",
       "    <tr>\n",
       "      <th>21</th>\n",
       "      <td>11</td>\n",
       "      <td>437086963</td>\n",
       "      <td>31philliplim</td>\n",
       "      <td>64710</td>\n",
       "      <td>373</td>\n",
       "    </tr>\n",
       "    <tr>\n",
       "      <th>22</th>\n",
       "      <td>12</td>\n",
       "      <td>109702885</td>\n",
       "      <td>marcjacobs</td>\n",
       "      <td>5985153</td>\n",
       "      <td>1529</td>\n",
       "    </tr>\n",
       "    <tr>\n",
       "      <th>23</th>\n",
       "      <td>13</td>\n",
       "      <td>16945578</td>\n",
       "      <td>garancedore</td>\n",
       "      <td>498177</td>\n",
       "      <td>161</td>\n",
       "    </tr>\n",
       "    <tr>\n",
       "      <th>24</th>\n",
       "      <td>14</td>\n",
       "      <td>35443315</td>\n",
       "      <td>stylescrapbook</td>\n",
       "      <td>70149</td>\n",
       "      <td>545</td>\n",
       "    </tr>\n",
       "    <tr>\n",
       "      <th>25</th>\n",
       "      <td>15</td>\n",
       "      <td>20779908</td>\n",
       "      <td>carolinaengman</td>\n",
       "      <td>42171</td>\n",
       "      <td>107</td>\n",
       "    </tr>\n",
       "    <tr>\n",
       "      <th>26</th>\n",
       "      <td>16</td>\n",
       "      <td>22582248</td>\n",
       "      <td>parkncube</td>\n",
       "      <td>14841</td>\n",
       "      <td>1643</td>\n",
       "    </tr>\n",
       "    <tr>\n",
       "      <th>27</th>\n",
       "      <td>17</td>\n",
       "      <td>136361303</td>\n",
       "      <td>voguemagazine</td>\n",
       "      <td>10926070</td>\n",
       "      <td>534</td>\n",
       "    </tr>\n",
       "    <tr>\n",
       "      <th>28</th>\n",
       "      <td>18</td>\n",
       "      <td>18307364</td>\n",
       "      <td>shopbop</td>\n",
       "      <td>213849</td>\n",
       "      <td>903</td>\n",
       "    </tr>\n",
       "    <tr>\n",
       "      <th>29</th>\n",
       "      <td>19</td>\n",
       "      <td>20298371</td>\n",
       "      <td>AIMEESONG</td>\n",
       "      <td>62365</td>\n",
       "      <td>359</td>\n",
       "    </tr>\n",
       "  </tbody>\n",
       "</table>\n",
       "</div>"
      ],
      "text/plain": [
       "    Unnamed: 0         id      screen_name  follower_count  friend_count\n",
       "0            0   40090727   ChiaraFerragni          273723           153\n",
       "1            1   20298371        AIMEESONG           62329           359\n",
       "2            2   16252512      wendynguyen           51012           378\n",
       "3            3  157994424          Kayture           36128           493\n",
       "4            4   90963591   SincerelyJules           56582           436\n",
       "5            5   22830044        rumineely          122310           304\n",
       "6            6  112700733   garypeppergirl           34180           829\n",
       "7            7  282389552     GalMeetsGlam           36106          1142\n",
       "8            8  165572420    BlairEadieBEE           52657           313\n",
       "9            9   54859060      BettyAutier          124774           146\n",
       "10           0   19212009      WhoWhatWear         2101444          1594\n",
       "11           1  228379737      thecoveteur          155119          2766\n",
       "12           2   64822927     sea_of_shoes          101586           570\n",
       "13           3   17475920          BagSnob          165187           888\n",
       "14           4   21190774     tuulavintage           38864           415\n",
       "15           5   17809182   MattiasSwenson            8124           119\n",
       "16           6   90963591   SincerelyJules           56593           436\n",
       "17           7   24190981        TeenVogue         2588637          2819\n",
       "18           8   73359920  MaisonValentino         1656069           975\n",
       "19           9   15090453       gerihirsch           16550           384\n",
       "20          10   16271952   RebeccaMinkoff          764630          2667\n",
       "21          11  437086963     31philliplim           64710           373\n",
       "22          12  109702885       marcjacobs         5985153          1529\n",
       "23          13   16945578      garancedore          498177           161\n",
       "24          14   35443315   stylescrapbook           70149           545\n",
       "25          15   20779908   carolinaengman           42171           107\n",
       "26          16   22582248        parkncube           14841          1643\n",
       "27          17  136361303    voguemagazine        10926070           534\n",
       "28          18   18307364          shopbop          213849           903\n",
       "29          19   20298371        AIMEESONG           62365           359"
      ]
     },
     "execution_count": 68,
     "metadata": {},
     "output_type": "execute_result"
    }
   ],
   "source": [
    "next_influencers_df=pd.read_csv(\"top30influencers.csv\")\n",
    "next_influencers_df.head(30)"
   ]
  },
  {
   "cell_type": "code",
   "execution_count": 18,
   "metadata": {
    "collapsed": true
   },
   "outputs": [],
   "source": [
    "# function to get friends ids without Twitter timing out\n",
    "def get_friends_ids(user_id):\n",
    "    ids = []\n",
    "    page_count = 0\n",
    "    print user_id\n",
    "    for page in tweepy.Cursor(api.friends_ids, id=user_id).pages():\n",
    "        page_count += 1\n",
    "        print 'Getting page {} for friends ids'.format(page_count)\n",
    "        ids.extend(page)\n",
    "        time.sleep(60)\n",
    "    return ids"
   ]
  },
  {
   "cell_type": "code",
   "execution_count": 20,
   "metadata": {
    "collapsed": true
   },
   "outputs": [],
   "source": [
    "# get all the friend's ids in one big giant list\n",
    "def get_influencers_friends(influencers_ids):\n",
    "    all_friend_ids = []\n",
    "    for influencer_id in influencers_ids:\n",
    "        print influencer_id\n",
    "\n",
    "        # get all friends of the influencer\n",
    "        ids = get_friends_ids(influencer_id)\n",
    "        # add to our comprehensive list\n",
    "        all_friend_ids = all_friend_ids + ids\n",
    "    return all_friend_ids"
   ]
  },
  {
   "cell_type": "code",
   "execution_count": 21,
   "metadata": {
    "collapsed": false
   },
   "outputs": [
    {
     "name": "stdout",
     "output_type": "stream",
     "text": [
      "40090727\n",
      "40090727\n",
      "Getting page 1 for friends ids\n",
      "20298371\n",
      "20298371\n",
      "Getting page 1 for friends ids\n",
      "16252512\n",
      "16252512\n",
      "Getting page 1 for friends ids\n",
      "157994424\n",
      "157994424\n",
      "Getting page 1 for friends ids\n",
      "90963591\n",
      "90963591\n",
      "Getting page 1 for friends ids\n",
      "22830044\n",
      "22830044\n",
      "Getting page 1 for friends ids\n",
      "112700733\n",
      "112700733\n",
      "Getting page 1 for friends ids\n",
      "282389552\n",
      "282389552\n",
      "Getting page 1 for friends ids\n",
      "165572420\n",
      "165572420\n",
      "Getting page 1 for friends ids\n",
      "54859060\n",
      "54859060\n",
      "Getting page 1 for friends ids\n",
      "19212009\n",
      "19212009\n",
      "Getting page 1 for friends ids\n",
      "228379737\n",
      "228379737\n",
      "Getting page 1 for friends ids\n",
      "64822927\n",
      "64822927\n",
      "Getting page 1 for friends ids\n",
      "17475920\n",
      "17475920\n",
      "Getting page 1 for friends ids\n",
      "21190774\n",
      "21190774\n",
      "Getting page 1 for friends ids\n",
      "17809182\n",
      "17809182\n",
      "Getting page 1 for friends ids\n",
      "90963591\n",
      "90963591\n",
      "Getting page 1 for friends ids\n",
      "24190981\n",
      "24190981\n",
      "Getting page 1 for friends ids\n",
      "73359920\n",
      "73359920\n",
      "Getting page 1 for friends ids\n",
      "15090453\n",
      "15090453\n",
      "Getting page 1 for friends ids\n",
      "16271952\n",
      "16271952\n",
      "Getting page 1 for friends ids\n",
      "437086963\n",
      "437086963\n",
      "Getting page 1 for friends ids\n",
      "109702885\n",
      "109702885\n",
      "Getting page 1 for friends ids\n",
      "16945578\n",
      "16945578\n",
      "Getting page 1 for friends ids\n",
      "35443315\n",
      "35443315\n",
      "Getting page 1 for friends ids\n",
      "20779908\n",
      "20779908\n",
      "Getting page 1 for friends ids\n",
      "22582248\n",
      "22582248\n",
      "Getting page 1 for friends ids\n",
      "136361303\n",
      "136361303\n",
      "Getting page 1 for friends ids\n",
      "18307364\n",
      "18307364\n",
      "Getting page 1 for friends ids\n",
      "20298371\n",
      "20298371\n",
      "Getting page 1 for friends ids\n"
     ]
    }
   ],
   "source": [
    "all_friend_ids = get_influencers_friends(next_influencers_df.id)"
   ]
  },
  {
   "cell_type": "code",
   "execution_count": 29,
   "metadata": {
    "collapsed": true
   },
   "outputs": [],
   "source": [
    "from collections import Counter\n",
    "from itertools import groupby\n",
    "\n",
    "def get_most_popular_friends(all_friend_ids):\n",
    "    # sort items given list test\n",
    "    sorted_list = [item for items, c in Counter(all_friend_ids).most_common() for item in [items] * c]\n",
    "    # top users\n",
    "    top_ids= [key for key, group in groupby(sorted_list)]\n",
    "    #  truncate to top twenty\n",
    "    top_twenty_ids = top_ids[0:40]\n",
    "    return top_twenty_ids"
   ]
  },
  {
   "cell_type": "code",
   "execution_count": 97,
   "metadata": {
    "collapsed": true
   },
   "outputs": [],
   "source": [
    "def get_most_popular_friends_no_duplicates(all_friend_ids, original_ids):\n",
    "    # sort items given list test\n",
    "    sorted_list = [item for items, c in Counter(all_friend_ids).most_common() for item in [items] * c]\n",
    "    # top users\n",
    "    top_ids= [key for key, group in groupby(sorted_list)]\n",
    "    top_ids_no_duplicates = []\n",
    "    # remove duplicates\n",
    "    counter = 0\n",
    "    for top_id in top_ids:\n",
    "        if counter < 20:\n",
    "            if top_id in list(original_ids):\n",
    "                continue\n",
    "            else:\n",
    "                top_ids_no_duplicates.append(top_id) \n",
    "                counter = counter + 1\n",
    "            \n",
    "    return top_ids_no_duplicates"
   ]
  },
  {
   "cell_type": "code",
   "execution_count": 51,
   "metadata": {
    "collapsed": false
   },
   "outputs": [
    {
     "data": {
      "text/plain": [
       "[1, 3, 5]"
      ]
     },
     "execution_count": 51,
     "metadata": {},
     "output_type": "execute_result"
    }
   ],
   "source": [
    "original = [2,4]\n",
    "a = [1,2,3,4,5]\n",
    "top_ids_no_duplicates  = [top_id for top_id in a if top_id not in original]\n",
    "top_ids_no_duplicates"
   ]
  },
  {
   "cell_type": "code",
   "execution_count": 98,
   "metadata": {
    "collapsed": false
   },
   "outputs": [],
   "source": [
    "top_twenty_no_duplicates = get_most_popular_friends_no_duplicates(all_friend_ids, next_influencers_df[\"id\"])"
   ]
  },
  {
   "cell_type": "code",
   "execution_count": 60,
   "metadata": {
    "collapsed": true
   },
   "outputs": [],
   "source": [
    "def get_users_info_and_write_to_csv(top_twenty_ids):\n",
    "    # open csv file\n",
    "    csvFileMore = open('new_twenty_influencers_no_duplicates.csv', 'a')\n",
    "    # create csv writer\n",
    "    csvWriterMore = csv.writer(csvFileMore)\n",
    "    users_summary = []\n",
    "    for influencer in top_twenty_ids:\n",
    "        user = api.get_user(id = influencer)\n",
    "        #save relevant info to csv\n",
    "        user_summary = [user.id, user.screen_name, user.followers_count, user.friends_count]\n",
    "        users_summary.append(user_summary)\n",
    "        csvWriterMore.writerow(user_summary)\n",
    "    return users_summary"
   ]
  },
  {
   "cell_type": "code",
   "execution_count": 31,
   "metadata": {
    "collapsed": true
   },
   "outputs": [],
   "source": [
    "top_forty_ids = get_most_popular_friends(all_friend_ids)"
   ]
  },
  {
   "cell_type": "code",
   "execution_count": 99,
   "metadata": {
    "collapsed": false
   },
   "outputs": [],
   "source": [
    "more_influencers = get_users_info_and_write_to_csv(top_twenty_no_duplicates)"
   ]
  },
  {
   "cell_type": "code",
   "execution_count": 65,
   "metadata": {
    "collapsed": false
   },
   "outputs": [
    {
     "data": {
      "text/html": [
       "<div>\n",
       "<table border=\"1\" class=\"dataframe\">\n",
       "  <thead>\n",
       "    <tr style=\"text-align: right;\">\n",
       "      <th></th>\n",
       "      <th>id</th>\n",
       "      <th>screen_name</th>\n",
       "      <th>follower_count</th>\n",
       "      <th>friend_count</th>\n",
       "    </tr>\n",
       "  </thead>\n",
       "  <tbody>\n",
       "    <tr>\n",
       "      <th>0</th>\n",
       "      <td>64822927</td>\n",
       "      <td>sea_of_shoes</td>\n",
       "      <td>101587</td>\n",
       "      <td>570</td>\n",
       "    </tr>\n",
       "    <tr>\n",
       "      <th>1</th>\n",
       "      <td>19212009</td>\n",
       "      <td>WhoWhatWear</td>\n",
       "      <td>2102743</td>\n",
       "      <td>1594</td>\n",
       "    </tr>\n",
       "  </tbody>\n",
       "</table>\n",
       "</div>"
      ],
      "text/plain": [
       "         id   screen_name  follower_count  friend_count\n",
       "0  64822927  sea_of_shoes          101587           570\n",
       "1  19212009   WhoWhatWear         2102743          1594"
      ]
     },
     "execution_count": 65,
     "metadata": {},
     "output_type": "execute_result"
    }
   ],
   "source": [
    "# get initial top 10 influencers\n",
    "twenty_influencers_df=pd.read_csv(\"new_twenty_influencers_no_duplicates.csv\", names=[\"id\", \"screen_name\", \n",
    "                                                                       \"follower_count\", \"friend_count\"])\n",
    "twenty_influencers_df.head(2)"
   ]
  },
  {
   "cell_type": "code",
   "execution_count": 28,
   "metadata": {
    "collapsed": false
   },
   "outputs": [],
   "source": [
    "# gets the summary info for top ten influencers\n",
    "more_influencers = get_users_info_and_write_to_csv(top_twenty_ids)"
   ]
  },
  {
   "cell_type": "code",
   "execution_count": 33,
   "metadata": {
    "collapsed": true
   },
   "outputs": [],
   "source": [
    "# gets the summary info for top ten influencers\n",
    "more_influencers = get_users_info_and_write_to_csv(top_forty_ids)"
   ]
  },
  {
   "cell_type": "markdown",
   "metadata": {},
   "source": [
    "We can decide how we want to do this. Ie, should we just take the most overlap in general? should we save only the nonduplicates?"
   ]
  },
  {
   "cell_type": "markdown",
   "metadata": {},
   "source": [
    "### We should go through and tag these"
   ]
  },
  {
   "cell_type": "code",
   "execution_count": 36,
   "metadata": {
    "collapsed": false
   },
   "outputs": [
    {
     "data": {
      "text/html": [
       "<div>\n",
       "<table border=\"1\" class=\"dataframe\">\n",
       "  <thead>\n",
       "    <tr style=\"text-align: right;\">\n",
       "      <th></th>\n",
       "      <th>id</th>\n",
       "      <th>screen_name</th>\n",
       "      <th>follower_count</th>\n",
       "      <th>friend_count</th>\n",
       "    </tr>\n",
       "  </thead>\n",
       "  <tbody>\n",
       "    <tr>\n",
       "      <th>0</th>\n",
       "      <td>64822927</td>\n",
       "      <td>sea_of_shoes</td>\n",
       "      <td>101586</td>\n",
       "      <td>570</td>\n",
       "    </tr>\n",
       "    <tr>\n",
       "      <th>1</th>\n",
       "      <td>19212009</td>\n",
       "      <td>WhoWhatWear</td>\n",
       "      <td>2102642</td>\n",
       "      <td>1594</td>\n",
       "    </tr>\n",
       "  </tbody>\n",
       "</table>\n",
       "</div>"
      ],
      "text/plain": [
       "         id   screen_name  follower_count  friend_count\n",
       "0  64822927  sea_of_shoes          101586           570\n",
       "1  19212009   WhoWhatWear         2102642          1594"
      ]
     },
     "execution_count": 36,
     "metadata": {},
     "output_type": "execute_result"
    }
   ],
   "source": [
    "# get initial top 10 influencers\n",
    "twenty_influencers_df=pd.read_csv(\"new_twenty_influencers.csv\", names=[\"id\", \"screen_name\", \n",
    "                                                                       \"follower_count\", \"friend_count\"])\n",
    "twenty_influencers_df.head(2)"
   ]
  },
  {
   "cell_type": "code",
   "execution_count": 38,
   "metadata": {
    "collapsed": false
   },
   "outputs": [
    {
     "data": {
      "text/html": [
       "<div>\n",
       "<table border=\"1\" class=\"dataframe\">\n",
       "  <thead>\n",
       "    <tr style=\"text-align: right;\">\n",
       "      <th></th>\n",
       "      <th>id</th>\n",
       "      <th>screen_name</th>\n",
       "      <th>follower_count</th>\n",
       "      <th>friend_count</th>\n",
       "    </tr>\n",
       "  </thead>\n",
       "  <tbody>\n",
       "    <tr>\n",
       "      <th>0</th>\n",
       "      <td>64822927</td>\n",
       "      <td>sea_of_shoes</td>\n",
       "      <td>101586</td>\n",
       "      <td>570</td>\n",
       "    </tr>\n",
       "    <tr>\n",
       "      <th>1</th>\n",
       "      <td>19212009</td>\n",
       "      <td>WhoWhatWear</td>\n",
       "      <td>2102650</td>\n",
       "      <td>1594</td>\n",
       "    </tr>\n",
       "  </tbody>\n",
       "</table>\n",
       "</div>"
      ],
      "text/plain": [
       "         id   screen_name  follower_count  friend_count\n",
       "0  64822927  sea_of_shoes          101586           570\n",
       "1  19212009   WhoWhatWear         2102650          1594"
      ]
     },
     "execution_count": 38,
     "metadata": {},
     "output_type": "execute_result"
    }
   ],
   "source": [
    "# get initial top 10 influencers\n",
    "forty_influencers_df=pd.read_csv(\"new_forty_influencers.csv\", names=[\"id\", \"screen_name\", \n",
    "                                                                       \"follower_count\", \"friend_count\"])\n",
    "forty_influencers_df.head(2)"
   ]
  },
  {
   "cell_type": "code",
   "execution_count": 44,
   "metadata": {
    "collapsed": false
   },
   "outputs": [
    {
     "data": {
      "text/html": [
       "<div>\n",
       "<table border=\"1\" class=\"dataframe\">\n",
       "  <thead>\n",
       "    <tr style=\"text-align: right;\">\n",
       "      <th></th>\n",
       "      <th>Unnamed: 0</th>\n",
       "      <th>follower_count</th>\n",
       "      <th>friend_count</th>\n",
       "      <th>id</th>\n",
       "      <th>screen_name</th>\n",
       "    </tr>\n",
       "  </thead>\n",
       "  <tbody>\n",
       "    <tr>\n",
       "      <th>0</th>\n",
       "      <td>NaN</td>\n",
       "      <td>273723</td>\n",
       "      <td>153</td>\n",
       "      <td>40090727</td>\n",
       "      <td>ChiaraFerragni</td>\n",
       "    </tr>\n",
       "    <tr>\n",
       "      <th>1</th>\n",
       "      <td>NaN</td>\n",
       "      <td>62329</td>\n",
       "      <td>359</td>\n",
       "      <td>20298371</td>\n",
       "      <td>AIMEESONG</td>\n",
       "    </tr>\n",
       "    <tr>\n",
       "      <th>2</th>\n",
       "      <td>NaN</td>\n",
       "      <td>51012</td>\n",
       "      <td>378</td>\n",
       "      <td>16252512</td>\n",
       "      <td>wendynguyen</td>\n",
       "    </tr>\n",
       "    <tr>\n",
       "      <th>3</th>\n",
       "      <td>NaN</td>\n",
       "      <td>36128</td>\n",
       "      <td>493</td>\n",
       "      <td>157994424</td>\n",
       "      <td>Kayture</td>\n",
       "    </tr>\n",
       "    <tr>\n",
       "      <th>4</th>\n",
       "      <td>NaN</td>\n",
       "      <td>56582</td>\n",
       "      <td>436</td>\n",
       "      <td>90963591</td>\n",
       "      <td>SincerelyJules</td>\n",
       "    </tr>\n",
       "  </tbody>\n",
       "</table>\n",
       "</div>"
      ],
      "text/plain": [
       "   Unnamed: 0  follower_count  friend_count         id     screen_name\n",
       "0         NaN          273723           153   40090727  ChiaraFerragni\n",
       "1         NaN           62329           359   20298371       AIMEESONG\n",
       "2         NaN           51012           378   16252512     wendynguyen\n",
       "3         NaN           36128           493  157994424         Kayture\n",
       "4         NaN           56582           436   90963591  SincerelyJules"
      ]
     },
     "execution_count": 44,
     "metadata": {},
     "output_type": "execute_result"
    }
   ],
   "source": [
    "frames = [new_df, forty_influencers_df]\n",
    "final_new_df = pd.concat(frames)\n",
    "final_new_df.head(5)"
   ]
  },
  {
   "cell_type": "code",
   "execution_count": 47,
   "metadata": {
    "collapsed": false
   },
   "outputs": [
    {
     "data": {
      "text/plain": [
       "80"
      ]
     },
     "execution_count": 47,
     "metadata": {},
     "output_type": "execute_result"
    }
   ],
   "source": [
    "len(final_new_df)"
   ]
  },
  {
   "cell_type": "code",
   "execution_count": 49,
   "metadata": {
    "collapsed": false
   },
   "outputs": [
    {
     "data": {
      "text/plain": [
       "28"
      ]
     },
     "execution_count": 49,
     "metadata": {},
     "output_type": "execute_result"
    }
   ],
   "source": [
    "sum(final_new_df.duplicated('screen_name'))"
   ]
  },
  {
   "cell_type": "markdown",
   "metadata": {},
   "source": [
    "#### Cycle 4\n",
    "Start the cycle again"
   ]
  },
  {
   "cell_type": "code",
   "execution_count": null,
   "metadata": {
    "collapsed": true
   },
   "outputs": [],
   "source": [
    "# read dfs\n",
    "\n",
    "# merge dfs\n",
    "\n",
    "# get all friend ids\n",
    "# all_friend_ids = get_influencers_friends(next_influencers_df.id)\n",
    "\n",
    "# get top twenty ids\n",
    "# top_twenty_ids = get_most_popular_friends(all_friend_ids)\n",
    "\n",
    "# get summary info for these influencers\n",
    "# more_influencers = get_users_info_and_write_to_csv(top_twenty_ids)\n"
   ]
  },
  {
   "cell_type": "code",
   "execution_count": 100,
   "metadata": {
    "collapsed": false
   },
   "outputs": [
    {
     "data": {
      "text/html": [
       "<div>\n",
       "<table border=\"1\" class=\"dataframe\">\n",
       "  <thead>\n",
       "    <tr style=\"text-align: right;\">\n",
       "      <th></th>\n",
       "      <th>1606965</th>\n",
       "      <th>21401466</th>\n",
       "      <th>637</th>\n",
       "      <th>Unnamed: 0</th>\n",
       "      <th>VogueRunway</th>\n",
       "      <th>follower_count</th>\n",
       "      <th>friend_count</th>\n",
       "      <th>id</th>\n",
       "      <th>screen_name</th>\n",
       "    </tr>\n",
       "  </thead>\n",
       "  <tbody>\n",
       "    <tr>\n",
       "      <th>0</th>\n",
       "      <td>NaN</td>\n",
       "      <td>NaN</td>\n",
       "      <td>NaN</td>\n",
       "      <td>0</td>\n",
       "      <td>NaN</td>\n",
       "      <td>273723</td>\n",
       "      <td>153</td>\n",
       "      <td>40090727</td>\n",
       "      <td>ChiaraFerragni</td>\n",
       "    </tr>\n",
       "    <tr>\n",
       "      <th>1</th>\n",
       "      <td>NaN</td>\n",
       "      <td>NaN</td>\n",
       "      <td>NaN</td>\n",
       "      <td>1</td>\n",
       "      <td>NaN</td>\n",
       "      <td>62329</td>\n",
       "      <td>359</td>\n",
       "      <td>20298371</td>\n",
       "      <td>AIMEESONG</td>\n",
       "    </tr>\n",
       "    <tr>\n",
       "      <th>2</th>\n",
       "      <td>NaN</td>\n",
       "      <td>NaN</td>\n",
       "      <td>NaN</td>\n",
       "      <td>2</td>\n",
       "      <td>NaN</td>\n",
       "      <td>51012</td>\n",
       "      <td>378</td>\n",
       "      <td>16252512</td>\n",
       "      <td>wendynguyen</td>\n",
       "    </tr>\n",
       "    <tr>\n",
       "      <th>3</th>\n",
       "      <td>NaN</td>\n",
       "      <td>NaN</td>\n",
       "      <td>NaN</td>\n",
       "      <td>3</td>\n",
       "      <td>NaN</td>\n",
       "      <td>36128</td>\n",
       "      <td>493</td>\n",
       "      <td>157994424</td>\n",
       "      <td>Kayture</td>\n",
       "    </tr>\n",
       "    <tr>\n",
       "      <th>4</th>\n",
       "      <td>NaN</td>\n",
       "      <td>NaN</td>\n",
       "      <td>NaN</td>\n",
       "      <td>4</td>\n",
       "      <td>NaN</td>\n",
       "      <td>56582</td>\n",
       "      <td>436</td>\n",
       "      <td>90963591</td>\n",
       "      <td>SincerelyJules</td>\n",
       "    </tr>\n",
       "  </tbody>\n",
       "</table>\n",
       "</div>"
      ],
      "text/plain": [
       "   1606965  21401466  637  Unnamed: 0 VogueRunway  follower_count  friend_count         id     screen_name\n",
       "0      NaN       NaN  NaN           0         NaN          273723           153   40090727  ChiaraFerragni\n",
       "1      NaN       NaN  NaN           1         NaN           62329           359   20298371       AIMEESONG\n",
       "2      NaN       NaN  NaN           2         NaN           51012           378   16252512     wendynguyen\n",
       "3      NaN       NaN  NaN           3         NaN           36128           493  157994424         Kayture\n",
       "4      NaN       NaN  NaN           4         NaN           56582           436   90963591  SincerelyJules"
      ]
     },
     "execution_count": 100,
     "metadata": {},
     "output_type": "execute_result"
    }
   ],
   "source": [
    "#read dfs and merge\n",
    "original_thirty=pd.read_csv(\"top30influencers.csv\",names=[\"id\", \"screen_name\", \n",
    "                                                                       \"follower_count\", \"friend_count\"])\n",
    "new_twenty=pd.read_csv(\"new_twenty_influencers_no_duplicates.csv\")\n",
    "frames = [original_thirty, new_twenty]\n",
    "final_new_df = pd.concat(frames)\n",
    "final_new_df.head(5)"
   ]
  },
  {
   "cell_type": "code",
   "execution_count": null,
   "metadata": {
    "collapsed": true
   },
   "outputs": [],
   "source": []
  }
 ],
 "metadata": {
  "kernelspec": {
   "display_name": "Python 2",
   "language": "python",
   "name": "python2"
  },
  "language_info": {
   "codemirror_mode": {
    "name": "ipython",
    "version": 2
   },
   "file_extension": ".py",
   "mimetype": "text/x-python",
   "name": "python",
   "nbconvert_exporter": "python",
   "pygments_lexer": "ipython2",
   "version": "2.7.11"
  }
 },
 "nbformat": 4,
 "nbformat_minor": 0
}
